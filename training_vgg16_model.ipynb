{
  "nbformat": 4,
  "nbformat_minor": 0,
  "metadata": {
    "colab": {
      "name": "training vgg16 model",
      "provenance": [],
      "collapsed_sections": []
    },
    "kernelspec": {
      "name": "python3",
      "display_name": "Python 3"
    },
    "language_info": {
      "name": "python"
    },
    "accelerator": "GPU"
  },
  "cells": [
    {
      "cell_type": "code",
      "metadata": {
        "colab": {
          "base_uri": "https://localhost:8080/"
        },
        "id": "4zRiOj8zh3bd",
        "outputId": "106c82a6-07c4-4495-d6d7-c0bee82acb65"
      },
      "source": [
        "from google.colab import drive\n",
        "drive.mount('/content/drive/')"
      ],
      "execution_count": 2,
      "outputs": [
        {
          "output_type": "stream",
          "text": [
            "Mounted at /content/drive/\n"
          ],
          "name": "stdout"
        }
      ]
    },
    {
      "cell_type": "markdown",
      "metadata": {
        "id": "Qs3tI4XFUOp2"
      },
      "source": [
        "The pretrained model will be VGG16, we used this because the author of the below link (https://www.kaggle.com/danaelisanicolas/cnn-part-4-training-and-modelling-with-vgg16) used it to classify resipiratory sounds."
      ]
    },
    {
      "cell_type": "code",
      "metadata": {
        "id": "BJ-BNFeUUgQN"
      },
      "source": [
        "from tensorflow.keras.applications.vgg16 import VGG16\n",
        "from tensorflow.keras.applications.vgg16 import preprocess_input\n",
        "from tensorflow.keras.models import Model, Sequential\n",
        "from tensorflow.keras.preprocessing.image import ImageDataGenerator\n",
        "from tensorflow.keras.optimizers import Adam\n",
        "from tensorflow.keras.layers import Dense, Conv2D, MaxPool2D , Flatten\n",
        "from tensorflow.keras.losses import categorical_crossentropy\n",
        "from tensorflow.keras.callbacks import ModelCheckpoint, EarlyStopping\n",
        "from tensorflow.keras import metrics\n",
        "\n",
        "from sklearn.utils import class_weight\n",
        "from collections import Counter\n",
        "\n",
        "import matplotlib.pyplot as plt\n",
        "\n",
        "from os import listdir\n",
        "from os.path import isfile, join\n",
        "\n",
        "import pandas as pd"
      ],
      "execution_count": 3,
      "outputs": []
    },
    {
      "cell_type": "code",
      "metadata": {
        "id": "UidY7AN2VqHV"
      },
      "source": [
        "dataset_full_loc = '/content/drive/MyDrive/CPSC 291 team dino/Dataset/Combined Dataset/combined png testing' #location of the png data inside google drive"
      ],
      "execution_count": 4,
      "outputs": []
    },
    {
      "cell_type": "code",
      "metadata": {
        "colab": {
          "base_uri": "https://localhost:8080/"
        },
        "id": "C81P-D2UV8tX",
        "outputId": "e4de4843-91d0-4100-80db-410de43c5d9f"
      },
      "source": [
        "trdata = ImageDataGenerator(validation_split=0.2) #20% of the images are for validation while rest are for training\n",
        "testdata = trdata.flow_from_directory(directory=dataset_full_loc, target_size=(224,224),subset='validation') #vgg16 accepts 224 by 224 pixels,\n",
        "\n",
        "traindata = trdata.flow_from_directory(directory=dataset_full_loc, target_size=(224,224),subset='training')"
      ],
      "execution_count": 5,
      "outputs": [
        {
          "output_type": "stream",
          "text": [
            "Found 180 images belonging to 2 classes.\n",
            "Found 723 images belonging to 2 classes.\n"
          ],
          "name": "stdout"
        }
      ]
    },
    {
      "cell_type": "code",
      "metadata": {
        "colab": {
          "base_uri": "https://localhost:8080/"
        },
        "id": "FkZ0pZyaXJ8i",
        "outputId": "970e7fa0-c847-4e6e-b3f9-ae97cb52357d"
      },
      "source": [
        "type(testdata)"
      ],
      "execution_count": 6,
      "outputs": [
        {
          "output_type": "execute_result",
          "data": {
            "text/plain": [
              "tensorflow.python.keras.preprocessing.image.DirectoryIterator"
            ]
          },
          "metadata": {
            "tags": []
          },
          "execution_count": 6
        }
      ]
    },
    {
      "cell_type": "code",
      "metadata": {
        "id": "O2HVNo9VYRCB",
        "colab": {
          "base_uri": "https://localhost:8080/"
        },
        "outputId": "a21dcbaf-323c-42f8-99eb-36b5419f5454"
      },
      "source": [
        "vgg16 = VGG16(weights='imagenet') #load weights from imagenet pretrained vgg16\n",
        "vgg16.summary()\n",
        "#the below code changes the fully connected layer to have the below layer\n",
        "x  = vgg16.get_layer('fc2').output\n",
        "prediction = Dense(2, activation='softmax', name='predictions')(x) # the output is set to two because we have two classes\n",
        "#using Model from tensorflow,\n",
        "model = Model(inputs=vgg16.input, outputs=prediction)"
      ],
      "execution_count": 7,
      "outputs": [
        {
          "output_type": "stream",
          "text": [
            "Downloading data from https://storage.googleapis.com/tensorflow/keras-applications/vgg16/vgg16_weights_tf_dim_ordering_tf_kernels.h5\n",
            "553467904/553467096 [==============================] - 3s 0us/step\n",
            "Model: \"vgg16\"\n",
            "_________________________________________________________________\n",
            "Layer (type)                 Output Shape              Param #   \n",
            "=================================================================\n",
            "input_1 (InputLayer)         [(None, 224, 224, 3)]     0         \n",
            "_________________________________________________________________\n",
            "block1_conv1 (Conv2D)        (None, 224, 224, 64)      1792      \n",
            "_________________________________________________________________\n",
            "block1_conv2 (Conv2D)        (None, 224, 224, 64)      36928     \n",
            "_________________________________________________________________\n",
            "block1_pool (MaxPooling2D)   (None, 112, 112, 64)      0         \n",
            "_________________________________________________________________\n",
            "block2_conv1 (Conv2D)        (None, 112, 112, 128)     73856     \n",
            "_________________________________________________________________\n",
            "block2_conv2 (Conv2D)        (None, 112, 112, 128)     147584    \n",
            "_________________________________________________________________\n",
            "block2_pool (MaxPooling2D)   (None, 56, 56, 128)       0         \n",
            "_________________________________________________________________\n",
            "block3_conv1 (Conv2D)        (None, 56, 56, 256)       295168    \n",
            "_________________________________________________________________\n",
            "block3_conv2 (Conv2D)        (None, 56, 56, 256)       590080    \n",
            "_________________________________________________________________\n",
            "block3_conv3 (Conv2D)        (None, 56, 56, 256)       590080    \n",
            "_________________________________________________________________\n",
            "block3_pool (MaxPooling2D)   (None, 28, 28, 256)       0         \n",
            "_________________________________________________________________\n",
            "block4_conv1 (Conv2D)        (None, 28, 28, 512)       1180160   \n",
            "_________________________________________________________________\n",
            "block4_conv2 (Conv2D)        (None, 28, 28, 512)       2359808   \n",
            "_________________________________________________________________\n",
            "block4_conv3 (Conv2D)        (None, 28, 28, 512)       2359808   \n",
            "_________________________________________________________________\n",
            "block4_pool (MaxPooling2D)   (None, 14, 14, 512)       0         \n",
            "_________________________________________________________________\n",
            "block5_conv1 (Conv2D)        (None, 14, 14, 512)       2359808   \n",
            "_________________________________________________________________\n",
            "block5_conv2 (Conv2D)        (None, 14, 14, 512)       2359808   \n",
            "_________________________________________________________________\n",
            "block5_conv3 (Conv2D)        (None, 14, 14, 512)       2359808   \n",
            "_________________________________________________________________\n",
            "block5_pool (MaxPooling2D)   (None, 7, 7, 512)         0         \n",
            "_________________________________________________________________\n",
            "flatten (Flatten)            (None, 25088)             0         \n",
            "_________________________________________________________________\n",
            "fc1 (Dense)                  (None, 4096)              102764544 \n",
            "_________________________________________________________________\n",
            "fc2 (Dense)                  (None, 4096)              16781312  \n",
            "_________________________________________________________________\n",
            "predictions (Dense)          (None, 1000)              4097000   \n",
            "=================================================================\n",
            "Total params: 138,357,544\n",
            "Trainable params: 138,357,544\n",
            "Non-trainable params: 0\n",
            "_________________________________________________________________\n"
          ],
          "name": "stdout"
        }
      ]
    },
    {
      "cell_type": "code",
      "metadata": {
        "colab": {
          "base_uri": "https://localhost:8080/"
        },
        "id": "0cT5hLvSQB5g",
        "outputId": "2ff7b09a-8342-4593-cad2-113d3cab0018"
      },
      "source": [
        "#Since the vgg16 is trained with normal image data, we need to retrain most of the layers for spectogram data\n",
        "for layer in model.layers:\n",
        "    layer.trainable = False\n",
        "\n",
        "for layer in model.layers[-12:]: #previous 20 now 15\n",
        "    layer.trainable = True\n",
        "    print(\"Layer '%s' is trainable\" % layer.name)  "
      ],
      "execution_count": 8,
      "outputs": [
        {
          "output_type": "stream",
          "text": [
            "Layer 'block4_conv1' is trainable\n",
            "Layer 'block4_conv2' is trainable\n",
            "Layer 'block4_conv3' is trainable\n",
            "Layer 'block4_pool' is trainable\n",
            "Layer 'block5_conv1' is trainable\n",
            "Layer 'block5_conv2' is trainable\n",
            "Layer 'block5_conv3' is trainable\n",
            "Layer 'block5_pool' is trainable\n",
            "Layer 'flatten' is trainable\n",
            "Layer 'fc1' is trainable\n",
            "Layer 'fc2' is trainable\n",
            "Layer 'predictions' is trainable\n"
          ],
          "name": "stdout"
        }
      ]
    },
    {
      "cell_type": "code",
      "metadata": {
        "colab": {
          "base_uri": "https://localhost:8080/"
        },
        "id": "wfGgCcnJQa0-",
        "outputId": "3dea3dc9-e258-4174-f33d-f0872553e1ae"
      },
      "source": [
        "opt = Adam(lr=0.000001) #small learning rate with below parameters allows the model to pick between small diffrences between categories, prev 0.000001\n",
        "model.compile(optimizer=opt, loss=categorical_crossentropy, #the model will work with ADAM and cross entrophy\n",
        "              metrics=['accuracy', 'mae'])\n",
        "model.summary()"
      ],
      "execution_count": 9,
      "outputs": [
        {
          "output_type": "stream",
          "text": [
            "Model: \"model\"\n",
            "_________________________________________________________________\n",
            "Layer (type)                 Output Shape              Param #   \n",
            "=================================================================\n",
            "input_1 (InputLayer)         [(None, 224, 224, 3)]     0         \n",
            "_________________________________________________________________\n",
            "block1_conv1 (Conv2D)        (None, 224, 224, 64)      1792      \n",
            "_________________________________________________________________\n",
            "block1_conv2 (Conv2D)        (None, 224, 224, 64)      36928     \n",
            "_________________________________________________________________\n",
            "block1_pool (MaxPooling2D)   (None, 112, 112, 64)      0         \n",
            "_________________________________________________________________\n",
            "block2_conv1 (Conv2D)        (None, 112, 112, 128)     73856     \n",
            "_________________________________________________________________\n",
            "block2_conv2 (Conv2D)        (None, 112, 112, 128)     147584    \n",
            "_________________________________________________________________\n",
            "block2_pool (MaxPooling2D)   (None, 56, 56, 128)       0         \n",
            "_________________________________________________________________\n",
            "block3_conv1 (Conv2D)        (None, 56, 56, 256)       295168    \n",
            "_________________________________________________________________\n",
            "block3_conv2 (Conv2D)        (None, 56, 56, 256)       590080    \n",
            "_________________________________________________________________\n",
            "block3_conv3 (Conv2D)        (None, 56, 56, 256)       590080    \n",
            "_________________________________________________________________\n",
            "block3_pool (MaxPooling2D)   (None, 28, 28, 256)       0         \n",
            "_________________________________________________________________\n",
            "block4_conv1 (Conv2D)        (None, 28, 28, 512)       1180160   \n",
            "_________________________________________________________________\n",
            "block4_conv2 (Conv2D)        (None, 28, 28, 512)       2359808   \n",
            "_________________________________________________________________\n",
            "block4_conv3 (Conv2D)        (None, 28, 28, 512)       2359808   \n",
            "_________________________________________________________________\n",
            "block4_pool (MaxPooling2D)   (None, 14, 14, 512)       0         \n",
            "_________________________________________________________________\n",
            "block5_conv1 (Conv2D)        (None, 14, 14, 512)       2359808   \n",
            "_________________________________________________________________\n",
            "block5_conv2 (Conv2D)        (None, 14, 14, 512)       2359808   \n",
            "_________________________________________________________________\n",
            "block5_conv3 (Conv2D)        (None, 14, 14, 512)       2359808   \n",
            "_________________________________________________________________\n",
            "block5_pool (MaxPooling2D)   (None, 7, 7, 512)         0         \n",
            "_________________________________________________________________\n",
            "flatten (Flatten)            (None, 25088)             0         \n",
            "_________________________________________________________________\n",
            "fc1 (Dense)                  (None, 4096)              102764544 \n",
            "_________________________________________________________________\n",
            "fc2 (Dense)                  (None, 4096)              16781312  \n",
            "_________________________________________________________________\n",
            "predictions (Dense)          (None, 2)                 8194      \n",
            "=================================================================\n",
            "Total params: 134,268,738\n",
            "Trainable params: 132,533,250\n",
            "Non-trainable params: 1,735,488\n",
            "_________________________________________________________________\n"
          ],
          "name": "stdout"
        }
      ]
    },
    {
      "cell_type": "code",
      "metadata": {
        "id": "GzhAmH0PQ6mR"
      },
      "source": [
        "#A check point system that saves the model when there is improvement inside an epoch\n",
        "checkpoint = ModelCheckpoint(\"vgg16_base_res.h5\", monitor='val_accuracy', verbose=1, \n",
        "                             save_best_only=True, save_weights_only=False, mode='min')\n",
        "#Below code stops the training function to stop early if there is no improvement between epochs\n",
        "early = EarlyStopping(monitor='val_accuracy', min_delta=0, patience=10, verbose=1, mode='min')"
      ],
      "execution_count": 10,
      "outputs": []
    },
    {
      "cell_type": "code",
      "metadata": {
        "colab": {
          "base_uri": "https://localhost:8080/"
        },
        "id": "B4sJfkMgRO5v",
        "outputId": "7caba0a7-86dc-42a8-a409-c3b84bfe12df"
      },
      "source": [
        "#we calculate weights for each class as our amount of data is imbalanced\n",
        "counter = Counter(traindata.classes)                       \n",
        "max_val = float(max(counter.values()))   \n",
        "class_weights = {class_id : max_val/num_images for class_id, num_images in counter.items()}\n",
        "class_weights"
      ],
      "execution_count": 11,
      "outputs": [
        {
          "output_type": "execute_result",
          "data": {
            "text/plain": [
              "{0: 1.0, 1: 1.0775862068965518}"
            ]
          },
          "metadata": {
            "tags": []
          },
          "execution_count": 11
        }
      ]
    },
    {
      "cell_type": "code",
      "metadata": {
        "colab": {
          "base_uri": "https://localhost:8080/"
        },
        "id": "POBi6ixWbjDT",
        "outputId": "1ddc3df9-c393-4db6-f8f6-962330f3595f"
      },
      "source": [
        "#model fit trains the model given the params\n",
        "hist = model.fit(traindata, steps_per_epoch=traindata.samples//traindata.batch_size, validation_data=testdata, \n",
        "                 class_weight=class_weights, validation_steps=testdata.samples//testdata.batch_size, \n",
        "                 epochs=15,callbacks=[checkpoint,early])"
      ],
      "execution_count": 12,
      "outputs": [
        {
          "output_type": "stream",
          "text": [
            "Epoch 1/15\n",
            "22/22 [==============================] - 680s 29s/step - loss: 1.1316 - accuracy: 0.5252 - mae: 0.4981 - val_loss: 0.7999 - val_accuracy: 0.4313 - val_mae: 0.5213\n",
            "\n",
            "Epoch 00001: val_accuracy improved from inf to 0.43125, saving model to vgg16_base_res.h5\n",
            "Epoch 2/15\n",
            "22/22 [==============================] - 332s 15s/step - loss: 0.7718 - accuracy: 0.5216 - mae: 0.4981 - val_loss: 0.8133 - val_accuracy: 0.3875 - val_mae: 0.5346\n",
            "\n",
            "Epoch 00002: val_accuracy improved from 0.43125 to 0.38750, saving model to vgg16_base_res.h5\n",
            "Epoch 3/15\n",
            "22/22 [==============================] - 320s 15s/step - loss: 0.7304 - accuracy: 0.5511 - mae: 0.4881 - val_loss: 0.8381 - val_accuracy: 0.3187 - val_mae: 0.5449\n",
            "\n",
            "Epoch 00003: val_accuracy improved from 0.38750 to 0.31875, saving model to vgg16_base_res.h5\n",
            "Epoch 4/15\n",
            "22/22 [==============================] - 322s 15s/step - loss: 0.6899 - accuracy: 0.5916 - mae: 0.4716 - val_loss: 0.8942 - val_accuracy: 0.2688 - val_mae: 0.5681\n",
            "\n",
            "Epoch 00004: val_accuracy improved from 0.31875 to 0.26875, saving model to vgg16_base_res.h5\n",
            "Epoch 5/15\n",
            "22/22 [==============================] - 321s 15s/step - loss: 0.6688 - accuracy: 0.6096 - mae: 0.4627 - val_loss: 0.9437 - val_accuracy: 0.2875 - val_mae: 0.5859\n",
            "\n",
            "Epoch 00005: val_accuracy did not improve from 0.26875\n",
            "Epoch 6/15\n",
            "22/22 [==============================] - 324s 15s/step - loss: 0.6621 - accuracy: 0.6520 - mae: 0.4599 - val_loss: 0.9452 - val_accuracy: 0.2313 - val_mae: 0.5887\n",
            "\n",
            "Epoch 00006: val_accuracy improved from 0.26875 to 0.23125, saving model to vgg16_base_res.h5\n",
            "Epoch 7/15\n",
            "22/22 [==============================] - 320s 15s/step - loss: 0.6237 - accuracy: 0.6729 - mae: 0.4407 - val_loss: 0.9877 - val_accuracy: 0.2000 - val_mae: 0.6029\n",
            "\n",
            "Epoch 00007: val_accuracy improved from 0.23125 to 0.20000, saving model to vgg16_base_res.h5\n",
            "Epoch 8/15\n",
            "22/22 [==============================] - 325s 15s/step - loss: 0.6226 - accuracy: 0.7029 - mae: 0.4415 - val_loss: 1.0159 - val_accuracy: 0.2000 - val_mae: 0.6121\n",
            "\n",
            "Epoch 00008: val_accuracy did not improve from 0.20000\n",
            "Epoch 9/15\n",
            "22/22 [==============================] - 325s 15s/step - loss: 0.6176 - accuracy: 0.7198 - mae: 0.4392 - val_loss: 1.0662 - val_accuracy: 0.1750 - val_mae: 0.6244\n",
            "\n",
            "Epoch 00009: val_accuracy improved from 0.20000 to 0.17500, saving model to vgg16_base_res.h5\n",
            "Epoch 10/15\n",
            "22/22 [==============================] - 321s 15s/step - loss: 0.6017 - accuracy: 0.7276 - mae: 0.4298 - val_loss: 1.0809 - val_accuracy: 0.1813 - val_mae: 0.6297\n",
            "\n",
            "Epoch 00010: val_accuracy did not improve from 0.17500\n",
            "Epoch 11/15\n",
            "22/22 [==============================] - 320s 15s/step - loss: 0.5816 - accuracy: 0.7581 - mae: 0.4175 - val_loss: 1.1050 - val_accuracy: 0.1500 - val_mae: 0.6403\n",
            "\n",
            "Epoch 00011: val_accuracy improved from 0.17500 to 0.15000, saving model to vgg16_base_res.h5\n",
            "Epoch 12/15\n",
            "22/22 [==============================] - 329s 15s/step - loss: 0.5655 - accuracy: 0.8054 - mae: 0.4103 - val_loss: 1.1307 - val_accuracy: 0.1875 - val_mae: 0.6443\n",
            "\n",
            "Epoch 00012: val_accuracy did not improve from 0.15000\n",
            "Epoch 13/15\n",
            "22/22 [==============================] - 326s 15s/step - loss: 0.5591 - accuracy: 0.8009 - mae: 0.4049 - val_loss: 1.1705 - val_accuracy: 0.1750 - val_mae: 0.6556\n",
            "\n",
            "Epoch 00013: val_accuracy did not improve from 0.15000\n",
            "Epoch 14/15\n",
            "22/22 [==============================] - 326s 15s/step - loss: 0.5341 - accuracy: 0.8281 - mae: 0.3919 - val_loss: 1.1719 - val_accuracy: 0.1500 - val_mae: 0.6583\n",
            "\n",
            "Epoch 00014: val_accuracy did not improve from 0.15000\n",
            "Epoch 15/15\n",
            "22/22 [==============================] - 323s 15s/step - loss: 0.5274 - accuracy: 0.7990 - mae: 0.3836 - val_loss: 1.2341 - val_accuracy: 0.1562 - val_mae: 0.6693\n",
            "\n",
            "Epoch 00015: val_accuracy did not improve from 0.15000\n"
          ],
          "name": "stdout"
        }
      ]
    },
    {
      "cell_type": "code",
      "metadata": {
        "id": "QK_2vwhIbsR1",
        "colab": {
          "base_uri": "https://localhost:8080/",
          "height": 808
        },
        "outputId": "a2eeb135-05c3-40aa-c18d-ef5d31a92ca6"
      },
      "source": [
        "plt.plot(hist.history['loss'], label='train')\n",
        "plt.plot(hist.history['val_loss'], label='val')\n",
        "plt.title('VGG16: Loss and Validation Loss (0.000001 = Adam LR)')\n",
        "plt.legend();\n",
        "plt.show()\n",
        "\n",
        "plt.plot(hist.history['accuracy'], label='train')\n",
        "plt.plot(hist.history['val_accuracy'], label='val')\n",
        "plt.title('VGG16: Accuracy and Validation Accuracy (0.000001 = Adam LR)')\n",
        "plt.legend();\n",
        "plt.show()\n",
        "\n",
        "plt.plot(hist.history['mae'], label='train')\n",
        "plt.plot(hist.history['val_mae'], label='val')\n",
        "plt.title('VGG16: MAE and Validation MAE (0.000001 = Adam LR)')\n",
        "plt.legend();\n",
        "plt.show()"
      ],
      "execution_count": 13,
      "outputs": [
        {
          "output_type": "display_data",
          "data": {
            "image/png": "[encoded data removed]",
            "text/plain": [
              "<Figure size 432x288 with 1 Axes>"
            ]
          },
          "metadata": {
            "tags": [],
            "needs_background": "light"
          }
        },
        {
          "output_type": "display_data",
          "data": {
            "image/png": "[encoded data removed]",
            "text/plain": [
              "<Figure size 432x288 with 1 Axes>"
            ]
          },
          "metadata": {
            "tags": [],
            "needs_background": "light"
          }
        },
        {
          "output_type": "display_data",
          "data": {
            "image/png": "[encoded data removed]",
            "text/plain": [
              "<Figure size 432x288 with 1 Axes>"
            ]
          },
          "metadata": {
            "tags": [],
            "needs_background": "light"
          }
        }
      ]
    },
    {
      "cell_type": "code",
      "metadata": {
        "colab": {
          "base_uri": "https://localhost:8080/"
        },
        "id": "VignpQz6rLxe",
        "outputId": "ea66bc35-3802-4855-d1ac-1d019b2718e7"
      },
      "source": [
        "hist.history['val_accuracy']\n",
        "max_acc = max(hist.history['val_accuracy'])\n",
        "min_acc = min(hist.history['val_accuracy'])\n",
        "saved_accuracy = max_acc if (1-min_acc)<max_acc else min_acc\n",
        "saved_accuracy"
      ],
      "execution_count": 14,
      "outputs": [
        {
          "output_type": "execute_result",
          "data": {
            "text/plain": [
              "0.15000000596046448"
            ]
          },
          "metadata": {
            "tags": []
          },
          "execution_count": 14
        }
      ]
    },
    {
      "cell_type": "code",
      "metadata": {
        "colab": {
          "base_uri": "https://localhost:8080/"
        },
        "id": "BHmxIfXTZ6rq",
        "outputId": "0b1e8d5c-1e5b-4054-a8bd-902d61aabd74"
      },
      "source": [
        "model.save(f'/content/drive/MyDrive/CPSC 291 team dino/Model/save{saved_accuracy}acc')"
      ],
      "execution_count": 15,
      "outputs": [
        {
          "output_type": "stream",
          "text": [
            "INFO:tensorflow:Assets written to: /content/drive/MyDrive/CPSC 291 team dino/Model/save0.15000000596046448acc/assets\n"
          ],
          "name": "stdout"
        }
      ]
    }
  ]
}